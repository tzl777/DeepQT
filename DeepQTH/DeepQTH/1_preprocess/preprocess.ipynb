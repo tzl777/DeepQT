{
 "cells": [
  {
   "cell_type": "code",
   "execution_count": null,
   "id": "b56010c2-5024-4127-8c74-3816cbcce7ab",
   "metadata": {},
   "outputs": [],
   "source": [
    "import os\n",
    "import sys\n",
    "import time\n",
    "from pathos.multiprocessing import ProcessingPool as Pool\n",
    "import torch\n",
    "\n",
    "from get_data_from_siesta import get_data_from_siesta\n",
    "from get_rotate_coord import get_rc\n",
    "from rotate import get_rh\n",
    "from data import HData"
   ]
  },
  {
   "cell_type": "code",
   "execution_count": null,
   "id": "aa93b255-d17f-43c4-b43d-1d93d2cab018",
   "metadata": {},
   "outputs": [],
   "source": [
    "current_sys_path = os.path.abspath(\".\")\n",
    "print(\"current sys path:\", current_sys_path)"
   ]
  },
  {
   "cell_type": "code",
   "execution_count": null,
   "id": "77067ece-852b-44d8-a465-9efd6a7a5584",
   "metadata": {},
   "outputs": [],
   "source": [
    "config = {\n",
    "    \"basic\": {\n",
    "        \"raw_dir\": \"/fs2/home/ndsim10/DeepQT/DeepQTH/0_generate_dataset/expand_dataset/raw/\",\n",
    "        \"processed_data_dir\": \"/fs2/home/ndsim10/DeepQT/DeepQTH/0_generate_dataset/expand_dataset/processed/\",\n",
    "        \"graph_dir\": \"/fs2/home/ndsim10/DeepQT/DeepQTH/0_generate_dataset/expand_dataset/graph/\",\n",
    "        \"target\": \"hamiltonian\",\n",
    "        \"interface\": \"siesta\",\n",
    "        \"data_format\": \"h5\",\n",
    "        \"input_file\": \"input.fdf\",\n",
    "        \"multiprocessing\": 8,\n",
    "        \"local_coordinate\": True,\n",
    "        \"material_dimension\": 2,\n",
    "    },\n",
    "    \"interpreter\": {\n",
    "        \"python_interpreter\": \"~/miniconda3/envs/deeph-cpu/bin/python\"\n",
    "    },\n",
    "    \"graph\": {\n",
    "        \"radius\": 7.0, #graphene 7.0 Å, MoS2 8.0 Å, and silicon  9.0 Å\n",
    "        \"num_l\": 4,\n",
    "        \"if_lcmp_graph\": True,\n",
    "        \"shortest_path_length\": 5,\n",
    "    }\n",
    "}"
   ]
  },
  {
   "cell_type": "code",
   "execution_count": null,
   "id": "1a0e698c-c32c-4594-8f15-f44b8a425f63",
   "metadata": {
    "scrolled": true
   },
   "outputs": [],
   "source": [
    "def main(config, current_sys_path):\n",
    "\n",
    "    assert config['basic']['target'] in ['hamiltonian']\n",
    "    assert config['basic']['input_file'] in ['input.fdf']\n",
    "    \n",
    "    raw_dir = os.path.abspath(config['basic']['raw_dir'])\n",
    "    print(\"raw_dir:\", raw_dir)\n",
    "    processed_data_dir = os.path.abspath(config['basic']['processed_data_dir'])\n",
    "    print(\"processed_data_dir:\", processed_data_dir)\n",
    "\n",
    "    target = config['basic']['target'] # hamiltonian\n",
    "    interface = config['basic']['interface'] # siesta/transiesa\n",
    "    input_file = config['basic']['input_file'] # *.fdf\n",
    "    local_coordinate = config['basic']['local_coordinate'] # True\n",
    "    multiprocessing = config['basic']['multiprocessing'] # 8\n",
    "    radius = config['graph']['radius']\n",
    "    \n",
    "    os.chdir(raw_dir)\n",
    "    relpath_list = [] # Obtain the relative path of the dataset\n",
    "    abspath_list = [] # Obtain the absolute path of the dataset\n",
    "\n",
    "    for root, dirs, files in os.walk('./'):\n",
    "        if (any(['.HSX' in ifile for ifile in files])) or (any(['.TSHS' in ifile for ifile in files])):\n",
    "            relpath_list.append(root)  # ./1-./600\n",
    "            abspath_list.append(os.path.abspath(root))\n",
    "    os.makedirs(processed_data_dir, exist_ok=True)\n",
    "    os.chdir(processed_data_dir)\n",
    "    print(f\"Found {len(abspath_list)} directories to preprocess\")\n",
    "    # print(abspath_list)\n",
    "    # print(relpath_list)\n",
    "    \n",
    "    def worker(index):\n",
    "        # print(index)\n",
    "        time_cost = time.time() - begin_time\n",
    "        \n",
    "        abspath = abspath_list[index]\n",
    "        relpath = relpath_list[index]\n",
    "        os.makedirs(relpath, exist_ok=True)\n",
    "        struct_id = int(''.join(filter(str.isdigit, relpath)))\n",
    "        \n",
    "        get_data_from_siesta(abspath, os.path.abspath(relpath), interface, input_file)\n",
    "        \n",
    "        if local_coordinate:\n",
    "            # Obtain the local coordinate system\n",
    "            get_rc(os.path.abspath(relpath), os.path.abspath(relpath), radius=radius, neighbour_file='hamiltonians.h5')\n",
    "            # Obtain the Hamiltonian after rotation\n",
    "            get_rh(os.path.abspath(relpath), os.path.abspath(relpath), target)\n",
    "        \n",
    "\n",
    "    begin_time = time.time()\n",
    "    if multiprocessing != 0:\n",
    "        if multiprocessing > 0:\n",
    "            pool_dict = {'nodes': multiprocessing}\n",
    "        else:\n",
    "            pool_dict = {}\n",
    "    \n",
    "        with Pool(**pool_dict) as pool:\n",
    "            nodes = pool.nodes\n",
    "            print(f'Use multiprocessing (nodes = {nodes})')\n",
    "            pool.map(worker, range(len(abspath_list)))\n",
    "    else:\n",
    "        nodes = 1\n",
    "        for index in range(len(abspath_list)):\n",
    "            worker(index)\n",
    "    print(f'\\nFinished preprocess {len(abspath_list)} directories and cost {time.time() - begin_time:.2f} seconds')\n",
    "    \n",
    "\n",
    "    if current_sys_path not in sys.path:\n",
    "        sys.path.insert(0, current_sys_path)\n",
    "    dataset = HData(config, default_dtype_torch=torch.get_default_dtype())\n",
    "    return dataset\n",
    "    \n",
    "if __name__ == '__main__':\n",
    "\n",
    "    dataset = main(config, current_sys_path)\n",
    "    "
   ]
  },
  {
   "cell_type": "code",
   "execution_count": null,
   "id": "a0d129ba-b822-4536-8226-96824da72878",
   "metadata": {},
   "outputs": [],
   "source": [
    "print(dataset.num_edge_features)\n",
    "print(dataset.num_node_features)"
   ]
  },
  {
   "cell_type": "code",
   "execution_count": null,
   "id": "29eda2de-80d5-418d-ad4d-d65864f5029b",
   "metadata": {},
   "outputs": [],
   "source": [
    "print(dataset[0])"
   ]
  },
  {
   "cell_type": "code",
   "execution_count": null,
   "id": "054a9407-e323-4df2-befa-d6e2122cc8ab",
   "metadata": {},
   "outputs": [],
   "source": [
    "dataset[0].x"
   ]
  },
  {
   "cell_type": "code",
   "execution_count": null,
   "id": "b138be9c-ff67-4811-a390-2d91f1b6bd60",
   "metadata": {},
   "outputs": [],
   "source": [
    "dataset[0].atom_num_orbital"
   ]
  },
  {
   "cell_type": "code",
   "execution_count": null,
   "id": "0f34d0d2-d338-46c6-9f00-b3d8174cc443",
   "metadata": {},
   "outputs": [],
   "source": [
    "dataset.info"
   ]
  },
  {
   "cell_type": "code",
   "execution_count": null,
   "id": "84715934-ae52-47ef-b8e7-c4d5a358c65a",
   "metadata": {},
   "outputs": [],
   "source": []
  }
 ],
 "metadata": {
  "kernelspec": {
   "display_name": "Python (deeph-cpu)",
   "language": "python",
   "name": "deeph-cpu"
  },
  "language_info": {
   "codemirror_mode": {
    "name": "ipython",
    "version": 3
   },
   "file_extension": ".py",
   "mimetype": "text/x-python",
   "name": "python",
   "nbconvert_exporter": "python",
   "pygments_lexer": "ipython3",
   "version": "3.9.23"
  }
 },
 "nbformat": 4,
 "nbformat_minor": 5
}
